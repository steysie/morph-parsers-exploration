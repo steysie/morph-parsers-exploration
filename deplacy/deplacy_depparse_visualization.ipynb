{
 "cells": [
  {
   "cell_type": "markdown",
   "metadata": {},
   "source": [
    "## `deplacy` для синтаксического анализа\n",
    "Original: [Link to GitHub](https://github.com/KoichiYasuoka/deplacy/blob/master/doc/ru.md)"
   ]
  },
  {
   "cell_type": "markdown",
   "metadata": {},
   "source": [
    "### C `Stanza`"
   ]
  },
  {
   "cell_type": "code",
   "execution_count": 1,
   "metadata": {},
   "outputs": [
    {
     "name": "stderr",
     "output_type": "stream",
     "text": [
      "2020-10-21 11:23:21 INFO: Loading these models for language: ru (Russian):\n",
      "=========================\n",
      "| Processor | Package   |\n",
      "-------------------------\n",
      "| tokenize  | syntagrus |\n",
      "| pos       | syntagrus |\n",
      "| lemma     | syntagrus |\n",
      "| depparse  | syntagrus |\n",
      "| ner       | wikiner   |\n",
      "=========================\n",
      "\n",
      "2020-10-21 11:23:21 INFO: Use device: gpu\n",
      "2020-10-21 11:23:21 INFO: Loading: tokenize\n",
      "2020-10-21 11:23:23 INFO: Loading: pos\n",
      "2020-10-21 11:23:24 INFO: Loading: lemma\n",
      "2020-10-21 11:23:25 INFO: Loading: depparse\n",
      "2020-10-21 11:23:26 INFO: Loading: ner\n",
      "2020-10-21 11:23:28 INFO: Done loading processors!\n"
     ]
    },
    {
     "name": "stdout",
     "output_type": "stream",
     "text": [
      "Москва PROPN <══════════╗   nsubj\n",
      "слезам NOUN  <════════╗ ║   iobj\n",
      "не     PART  <╗       ║ ║   advmod\n",
      "верила VERB  ═╝═════╗═╝═╝═╗ root\n",
      ",      PUNCT <════╗ ║     ║ punct\n",
      "а      CCONJ <══╗ ║ ║     ║ cc\n",
      "верила VERB  ═╗═╝═╝<╝     ║ conj\n",
      "любви  NOUN  <╝           ║ iobj\n",
      ".      PUNCT <════════════╝ punct\n"
     ]
    }
   ],
   "source": [
    "import stanza\n",
    "# stanza.download('ru')\n",
    "nlp=stanza.Pipeline('ru')\n",
    "doc=nlp('Москва слезам не верила, а верила любви.')\n",
    "import deplacy\n",
    "deplacy.render(doc)"
   ]
  },
  {
   "cell_type": "markdown",
   "metadata": {},
   "source": [
    "### C `Camphr-Udify`\n",
    "(готовых моделей для русского нет)"
   ]
  },
  {
   "cell_type": "code",
   "execution_count": 7,
   "metadata": {},
   "outputs": [],
   "source": [
    "# !python -m spacy download en_core_web_sm"
   ]
  },
  {
   "cell_type": "code",
   "execution_count": 9,
   "metadata": {},
   "outputs": [
    {
     "name": "stdout",
     "output_type": "stream",
     "text": [
      "Yours    PRON <══════════════╗ nsubj\n",
      "are      AUX  ═════════════╗═╝ ROOT\n",
      "the      DET  <══════════╗ ║   det\n",
      "sweetest ADJ  <════════╗ ║ ║   amod\n",
      "eyes     NOUN ═══════╗═╝═╝<╝   attr\n",
      "I        PRON <════╗ ║         nsubj\n",
      "'ve      AUX  <══╗ ║ ║         aux\n",
      "ever     ADV  <╗ ║ ║ ║         advmod\n",
      "seen     VERB ═╝═╝═╝<╝         relcl\n"
     ]
    }
   ],
   "source": [
    "import spacy\n",
    "nlp=spacy.load(\"en_core_web_sm\")\n",
    "doc=nlp(\"Yours are the sweetest eyes I've ever seen\")\n",
    "import deplacy\n",
    "deplacy.render(doc)"
   ]
  },
  {
   "cell_type": "markdown",
   "metadata": {},
   "source": [
    "### C `NLP-Cube`"
   ]
  },
  {
   "cell_type": "code",
   "execution_count": 15,
   "metadata": {},
   "outputs": [],
   "source": [
    "# !pip install nlpcube"
   ]
  },
  {
   "cell_type": "code",
   "execution_count": 16,
   "metadata": {},
   "outputs": [
    {
     "name": "stdout",
     "output_type": "stream",
     "text": [
      "Latest version found online: ru-1.1\n",
      "Download complete, decompressing files ...                                         \n",
      "Model extracted successfully.\n",
      "Checking for associated vector embeddings file [wiki.dummy.vec] ...\n",
      "Embeddings downloaded successfully.                                                  ======] 227.0%, downloading 0.00/0.00 MB ...\n",
      "Москва NOUN  <════════════╗ nsubj\n",
      "слезам NOUN  <══════════╗ ║ iobj\n",
      "не     PART  <╗         ║ ║ advmod\n",
      "верила VERB  ═╝═══════╗═╝═╝ root\n",
      ",      PUNCT <════╗   ║     punct\n",
      "а      CCONJ <══╗ ║   ║     cc\n",
      "верила VERB  ═╗═╝═╝═╗<╝     conj\n",
      "любви  NOUN  <╝     ║       obj\n",
      ".      PUNCT <══════╝       punct\n"
     ]
    }
   ],
   "source": [
    "from cube.api import Cube\n",
    "nlp=Cube()\n",
    "nlp.load(\"ru\")\n",
    "doc=nlp(\"Москва слезам не верила, а верила любви.\")\n",
    "import deplacy\n",
    "deplacy.render(doc)"
   ]
  },
  {
   "cell_type": "markdown",
   "metadata": {},
   "source": [
    "### C `spacy-udpipe`"
   ]
  },
  {
   "cell_type": "code",
   "execution_count": 24,
   "metadata": {},
   "outputs": [],
   "source": [
    "# !pip install spacy-udpipe"
   ]
  },
  {
   "cell_type": "code",
   "execution_count": 25,
   "metadata": {},
   "outputs": [
    {
     "name": "stdout",
     "output_type": "stream",
     "text": [
      "Downloaded pre-trained UDPipe model for 'ru' language\n",
      "Москва PROPN <══════════╗   nsubj\n",
      "слезам NOUN  <════════╗ ║   iobj\n",
      "не     PART  <╗       ║ ║   advmod\n",
      "верила VERB  ═╝═════╗═╝═╝═╗ ROOT\n",
      ",      PUNCT <════╗ ║     ║ punct\n",
      "а      CCONJ <══╗ ║ ║     ║ cc\n",
      "верила NOUN  ═╗═╝═╝<╝     ║ conj\n",
      "любви  NOUN  <╝           ║ nmod\n",
      ".      PUNCT <════════════╝ punct\n"
     ]
    }
   ],
   "source": [
    "import spacy_udpipe\n",
    "spacy_udpipe.download(\"ru\")\n",
    "\n",
    "nlp=spacy_udpipe.load(\"ru\")\n",
    "doc=nlp(\"Москва слезам не верила, а верила любви.\")\n",
    "import deplacy\n",
    "deplacy.render(doc)"
   ]
  },
  {
   "cell_type": "markdown",
   "metadata": {},
   "source": [
    "### C `spaCy-COMBO`"
   ]
  },
  {
   "cell_type": "code",
   "execution_count": 28,
   "metadata": {},
   "outputs": [],
   "source": [
    "# !pip install spacy_combo"
   ]
  },
  {
   "cell_type": "code",
   "execution_count": 29,
   "metadata": {
    "scrolled": true
   },
   "outputs": [
    {
     "name": "stdout",
     "output_type": "stream",
     "text": [
      " [==================================================] 100% 00:38   \n"
     ]
    },
    {
     "name": "stderr",
     "output_type": "stream",
     "text": [
      "/home/steysie/.local/lib/python3.6/site-packages/numba/core/errors.py:144: UserWarning: Insufficiently recent colorama version found. Numba requires colorama >= 0.3.9\n",
      "  warnings.warn(msg)\n"
     ]
    },
    {
     "name": "stdout",
     "output_type": "stream",
     "text": [
      "WARNING:tensorflow:Layer lstm will not use cuDNN kernel since it doesn't meet the cuDNN kernel criteria. It will use generic GPU kernel as fallback when running on GPU\n",
      "WARNING:tensorflow:Layer lstm will not use cuDNN kernel since it doesn't meet the cuDNN kernel criteria. It will use generic GPU kernel as fallback when running on GPU\n",
      "WARNING:tensorflow:Layer lstm will not use cuDNN kernel since it doesn't meet the cuDNN kernel criteria. It will use generic GPU kernel as fallback when running on GPU\n",
      "WARNING:tensorflow:Layer lstm_1 will not use cuDNN kernel since it doesn't meet the cuDNN kernel criteria. It will use generic GPU kernel as fallback when running on GPU\n",
      "WARNING:tensorflow:Layer lstm_1 will not use cuDNN kernel since it doesn't meet the cuDNN kernel criteria. It will use generic GPU kernel as fallback when running on GPU\n",
      "WARNING:tensorflow:Layer lstm_1 will not use cuDNN kernel since it doesn't meet the cuDNN kernel criteria. It will use generic GPU kernel as fallback when running on GPU\n",
      "Москва NOUN  <════════════╗ nsubj\n",
      "слезам NOUN  <══════════╗ ║ iobj\n",
      "не     PART  <╗         ║ ║ advmod\n",
      "верила VERB  ═╝═══════╗═╝═╝ ROOT\n",
      ",      PUNCT <════╗   ║     punct\n",
      "а      CCONJ <══╗ ║   ║     cc\n",
      "верила VERB  ═╗═╝═╝═╗<╝     conj\n",
      "любви  NOUN  <╝     ║       obj\n",
      ".      PUNCT <══════╝       punct\n"
     ]
    }
   ],
   "source": [
    "import spacy_combo\n",
    "nlp=spacy_combo.load(\"ru_syntagrus\")\n",
    "doc=nlp(\"Москва слезам не верила, а верила любви.\")\n",
    "\n",
    "import deplacy\n",
    "deplacy.render(doc)"
   ]
  },
  {
   "cell_type": "markdown",
   "metadata": {},
   "source": [
    "### C `UDPipe 2`"
   ]
  },
  {
   "cell_type": "code",
   "execution_count": 31,
   "metadata": {},
   "outputs": [
    {
     "name": "stdout",
     "output_type": "stream",
     "text": [
      "Москва PROPN <══════════╗   nsubj\n",
      "слезам NOUN  <════════╗ ║   iobj\n",
      "не     PART  <╗       ║ ║   advmod\n",
      "верила VERB  ═╝═════╗═╝═╝═╗ root\n",
      ",      PUNCT <════╗ ║     ║ punct\n",
      "а      CCONJ <══╗ ║ ║     ║ cc\n",
      "верила VERB  ═╗═╝═╝<╝     ║ conj\n",
      "любви  NOUN  <╝           ║ obl\n",
      ".      PUNCT <════════════╝ punct\n"
     ]
    }
   ],
   "source": [
    "def nlp(t):\n",
    "    import urllib.request,urllib.parse,json\n",
    "    with urllib.request.urlopen(\"https://lindat.mff.cuni.cz/services/udpipe/api/process?model=ru&tokenizer&tagger&parser&data=\"+urllib.parse.quote(t)) as r:\n",
    "        return json.loads(r.read())[\"result\"]\n",
    "\n",
    "doc=nlp(\"Москва слезам не верила, а верила любви.\")\n",
    "import deplacy\n",
    "deplacy.render(doc)"
   ]
  },
  {
   "cell_type": "markdown",
   "metadata": {},
   "source": [
    "### С `Turku-neural-parser-pipeline`"
   ]
  },
  {
   "cell_type": "markdown",
   "metadata": {},
   "source": [
    "`$ git clone https://github.com/TurkuNLP/Turku-neural-parser-pipeline.git`"
   ]
  },
  {
   "cell_type": "code",
   "execution_count": 39,
   "metadata": {},
   "outputs": [
    {
     "name": "stdout",
     "output_type": "stream",
     "text": [
      "Downloading from ru_syntagrus and unpacking\r\n"
     ]
    }
   ],
   "source": [
    "!cd Turku-neural-parser-pipeline && python3 fetch_models.py ru_syntagrus"
   ]
  },
  {
   "cell_type": "code",
   "execution_count": 40,
   "metadata": {},
   "outputs": [],
   "source": [
    "import sys,subprocess\n",
    "nlp=lambda t:subprocess.run([sys.executable,\"full_pipeline_stream.py\",\n",
    "                             \"--gpu\",\"-1\",\"--conf\",\"models_ru_syntagrus/pipelines.yaml\"],\n",
    "                            cwd=\"Turku-neural-parser-pipeline\",input=t,\n",
    "                            encoding=\"utf-8\",stdout=subprocess.PIPE).stdout\n",
    "doc=nlp(\"Москва слезам не верила, а верила любви.\")\n",
    "import deplacy\n",
    "deplacy.render(doc)\n",
    "# does it work?... no error messages, yet no output"
   ]
  }
 ],
 "metadata": {
  "kernelspec": {
   "display_name": "Python 3",
   "language": "python",
   "name": "python3"
  },
  "language_info": {
   "codemirror_mode": {
    "name": "ipython",
    "version": 3
   },
   "file_extension": ".py",
   "mimetype": "text/x-python",
   "name": "python",
   "nbconvert_exporter": "python",
   "pygments_lexer": "ipython3",
   "version": "3.6.9"
  }
 },
 "nbformat": 4,
 "nbformat_minor": 2
}
